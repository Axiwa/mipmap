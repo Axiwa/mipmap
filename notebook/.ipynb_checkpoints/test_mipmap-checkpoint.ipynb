{
 "cells": [
  {
   "cell_type": "code",
   "execution_count": 1,
   "id": "01ca6a16",
   "metadata": {},
   "outputs": [],
   "source": [
    "import os\n",
    "import sys\n",
    "sys.path.insert(0, \"/home/axiwa/Learn/CG/covariance/mipmap/build/python\")\n",
    "import mitsuba as mi\n",
    "from matplotlib import pyplot as plt\n",
    "mi.set_variant(\"scalar_rgb\")"
   ]
  },
  {
   "cell_type": "code",
   "execution_count": 2,
   "id": "001d4412",
   "metadata": {},
   "outputs": [],
   "source": [
    "# Sampler\n",
    "total = 1\n",
    "sampler = mi.load_dict({'type': 'independent', 'sample_count': total})\n",
    "sampler.seed(seed = 2, wavefront_size = total)"
   ]
  },
  {
   "cell_type": "code",
   "execution_count": 3,
   "id": "6789eb86",
   "metadata": {},
   "outputs": [
    {
     "name": "stdout",
     "output_type": "stream",
     "text": [
      "MIPMAP BUILT SUCCESS\n"
     ]
    }
   ],
   "source": [
    "# Scene\n",
    "scene_path = \"mipmap.xml\"\n",
    "scene = mi.load_file(scene_path)\n",
    "# image = mi.render(scene)\n",
    "# mi.Bitmap(image)"
   ]
  },
  {
   "cell_type": "code",
   "execution_count": 4,
   "id": "d975dc3d",
   "metadata": {},
   "outputs": [
    {
     "name": "stdout",
     "output_type": "stream",
     "text": [
      "[0.0, 2.0, -50.0]\n",
      "[[1, 0, 0, 0],\n",
      " [0, 1, 0, 2],\n",
      " [0, 0, 1, -50],\n",
      " [0, 0, 0, 1]]\n"
     ]
    }
   ],
   "source": [
    "sensor = scene.sensors()[0]\n",
    "viewpoint = sensor.world_transform() @ mi.ScalarPoint3f(0)\n",
    "to_world = sensor.world_transform()\n",
    "print (viewpoint)\n",
    "print (to_world)"
   ]
  },
  {
   "cell_type": "code",
   "execution_count": 11,
   "id": "b28600fb",
   "metadata": {},
   "outputs": [
    {
     "name": "stdout",
     "output_type": "stream",
     "text": [
      "Ray3f[\n",
      "  o = [0, 2, -50],\n",
      "  d = [0.0117188, -2, 25.0117],\n",
      "  maxt = 3.40282e+38,\n",
      "  time = 0,\n",
      "]\n"
     ]
    }
   ],
   "source": [
    "ray = mi.RayDifferential3f(viewpoint, mi.Vector3f([48 / 4096, -2, 25 + 48 / 4096]))\n",
    "print (ray)\n",
    "wo = mi.RayDifferential3f([0, 0, 0], mi.Vector3f([0, 1, 0]))"
   ]
  },
  {
   "cell_type": "code",
   "execution_count": 12,
   "id": "625bc877",
   "metadata": {},
   "outputs": [
    {
     "name": "stdout",
     "output_type": "stream",
     "text": [
      "SurfaceInteraction[\n",
      "  t = 1,\n",
      "  time = 0,\n",
      "  wavelengths = [],\n",
      "  p = [0.0117221, 0, -24.9883],\n",
      "  shape = OBJMesh[\n",
      "    name = \"Plane.obj\",\n",
      "    bbox = BoundingBox3f[\n",
      "      min = [-25, 0, -52.5],\n",
      "      max = [25, 0, 2.5]\n",
      "    ],\n",
      "    vertex_count = 4,\n",
      "    vertices = [128 B of vertex data],\n",
      "    face_count = 2,\n",
      "    faces = [24 B of face data],\n",
      "    face_normals = 0\n",
      "  ],\n",
      "  uv = [0.500234, 0.500213],\n",
      "  n = [0, 1, 0],\n",
      "  sh_frame = Frame[\n",
      "    s = [1, -0, -0],\n",
      "    t = [0, 0, -1],\n",
      "    n = [0, 1, 0]\n",
      "  ],\n",
      "  dp_du = [50, -0, -0],\n",
      "  dp_dv = [-0, -0, 55],\n",
      "  duv_dx = [1500, 1024],\n",
      "  duv_dy = [0.001, 1024],\n",
      "  wi = [-0.0117188, 25.0117, 2],\n",
      "  prim_index = 1,\n",
      "  instance = nullptr\n",
      "]\n"
     ]
    }
   ],
   "source": [
    "si = scene.ray_intersect(ray)\n",
    "si.duv_dx = [0.00001, 0.00001]\n",
    "si.duv_dy = [0.00001, 1024]\n",
    "print (si)"
   ]
  },
  {
   "cell_type": "code",
   "execution_count": 13,
   "id": "b48bf9d3",
   "metadata": {},
   "outputs": [
    {
     "name": "stdout",
     "output_type": "stream",
     "text": [
      "MIPMAP BUILT SUCCESS\n"
     ]
    }
   ],
   "source": [
    "ctx = mi.BSDFContext()\n",
    "\n",
    "bsdf = mi.load_dict({      \n",
    "    'type': 'diffuse',\n",
    "    'reflectance': {\n",
    "        'type': 'bitmap2',\n",
    "        'filename': 'figures/check16.png',\n",
    "        'filter_type': 'bilinear',\n",
    "        'wrap_mode': 'repeat',\n",
    "        'mipmap_filter_type': 'trilinear',\n",
    "        'to_uv': mi.ScalarTransform4f.scale([1, 1, 1])\n",
    "    }\n",
    "})"
   ]
  },
  {
   "cell_type": "code",
   "execution_count": 14,
   "id": "1880cb62",
   "metadata": {},
   "outputs": [
    {
     "name": "stdout",
     "output_type": "stream",
     "text": [
      "BSDFSample[\n",
      "  wo = [-0.357166, -0.113518, 0.927117],\n",
      "  pdf = 0.295111,\n",
      "  eta = 1,\n",
      "  sampled_type = TODO,\n",
      "  sampled_component = 0\n",
      "]\n",
      "[0.5088681578636169, 0.5088681578636169, 0.5088681578636169]\n",
      "22.5507\n"
     ]
    }
   ],
   "source": [
    "bs, spec = bsdf.sample(ctx, si, sampler.next_1d(), sampler.next_2d())\n",
    "print (bs)\n",
    "print (spec)"
   ]
  },
  {
   "cell_type": "code",
   "execution_count": null,
   "id": "9f587c65",
   "metadata": {},
   "outputs": [],
   "source": []
  }
 ],
 "metadata": {
  "kernelspec": {
   "display_name": "Python 3 (ipykernel)",
   "language": "python",
   "name": "python3"
  },
  "language_info": {
   "codemirror_mode": {
    "name": "ipython",
    "version": 3
   },
   "file_extension": ".py",
   "mimetype": "text/x-python",
   "name": "python",
   "nbconvert_exporter": "python",
   "pygments_lexer": "ipython3",
   "version": "3.9.13"
  }
 },
 "nbformat": 4,
 "nbformat_minor": 5
}
